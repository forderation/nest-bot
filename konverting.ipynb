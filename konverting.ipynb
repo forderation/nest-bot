{
 "cells": [
  {
   "cell_type": "code",
   "execution_count": 2,
   "metadata": {},
   "outputs": [],
   "source": [
    "import pandas as pd\n",
    "import mysql.connector as connector\n",
    "from pypika import Table, Query"
   ]
  },
  {
   "cell_type": "code",
   "execution_count": 3,
   "metadata": {},
   "outputs": [],
   "source": [
    "db_connector = connector.connect(\n",
    "                    host=\"localhost\",\n",
    "                    user=\"root\",\n",
    "                    passwd=\"\",\n",
    "                    database=\"nest-bot\"\n",
    "                )"
   ]
  },
  {
   "cell_type": "code",
   "execution_count": 4,
   "metadata": {},
   "outputs": [
    {
     "data": {
      "text/plain": "      No Serial Number          Jenis Barang          Merk Barang  \\\n0    1.0     161011188  OPTICAL LIGHT SOURCE  JOINWIT FROM SANFIX   \n1    2.0     161011248  OPTICAL LIGHT SOURCE  JOINWIT FROM SANFIX   \n2    3.0     170525270  OPTICAL LIGHT SOURCE  JOINWIT FROM SANFIX   \n3    4.0     170525288  OPTICAL LIGHT SOURCE  JOINWIT FROM SANFIX   \n4    5.0     170525300  OPTICAL LIGHT SOURCE  JOINWIT FROM SANFIX   \n..   ...           ...                   ...                  ...   \n58  59.0       LS-8352  OPTICAL LIGHT SOURCE          Stintrument   \n59  60.0       LS-8468  OPTICAL LIGHT SOURCE          Stintrument   \n60  61.0        LS-975  OPTICAL LIGHT SOURCE          Stintrument   \n61  62.0        LS-988  OPTICAL LIGHT SOURCE          Stintrument   \n62  63.0        LS-990  OPTICAL LIGHT SOURCE          Stintrument   \n\n                             Nama Product                         Posisi  \\\n0   OPTICAL LIGHT SOURCE JOINWIT STANDARD                BRIYAN PRASETYO   \n1   OPTICAL LIGHT SOURCE JOINWIT STANDARD                   SOFYAN NAURI   \n2   OPTICAL LIGHT SOURCE JOINWIT STANDARD                MUKHAMAD ASRORI   \n3   OPTICAL LIGHT SOURCE JOINWIT STANDARD          WAHYU INDRA CHRISTIAN   \n4   OPTICAL LIGHT SOURCE JOINWIT STANDARD               JIHAD AMIRUL HAQ   \n..                                    ...                            ...   \n58             OLS STINTRUMENT [STANDARD]  GILANG RAMADHAN AGUNG GUMELAR   \n59             OLS STINTRUMENT [STANDARD]          ANGGRIAWAN ATMY PUTRA   \n60             OLS STINTRUMENT [STANDARD]           MUKLAS ANDIKA WIJAYA   \n61             OLS STINTRUMENT [STANDARD]                   EKO WIDIANTO   \n62             OLS STINTRUMENT [STANDARD]                 TIGO DWI ANGGA   \n\n                                       Position Name  Group Fungsi  \n0                       Team Leader Maintenance & QE    QE & GAMAS  \n1               Teknisi Provisioning Sektor Pasuruan  PROVISIONING  \n2                      Teknisi I-OAN Sektor Pasuruan         I-OAN  \n3                 Teknisi I-OAN Sektor Probolinggo 2         I-OAN  \n4                Team Leader I-OAN Sektor Pasuruan 2         I-OAN  \n..                                               ...           ...  \n58                                      Teknisi TSEL         I-OAN  \n59  Team Leader Provisioning & Migrasi Sektor Bangil  PROVISIONING  \n60            Team Leader I-OAN Sektor Probolinggo 2         I-OAN  \n61                  Teknisi I-OAN Sektor Probolinggo         I-OAN  \n62                  Teknisi I-OAN Sektor Probolinggo         I-OAN  \n\n[63 rows x 8 columns]",
      "text/html": "<div>\n<style scoped>\n    .dataframe tbody tr th:only-of-type {\n        vertical-align: middle;\n    }\n\n    .dataframe tbody tr th {\n        vertical-align: top;\n    }\n\n    .dataframe thead th {\n        text-align: right;\n    }\n</style>\n<table border=\"1\" class=\"dataframe\">\n  <thead>\n    <tr style=\"text-align: right;\">\n      <th></th>\n      <th>No</th>\n      <th>Serial Number</th>\n      <th>Jenis Barang</th>\n      <th>Merk Barang</th>\n      <th>Nama Product</th>\n      <th>Posisi</th>\n      <th>Position Name</th>\n      <th>Group Fungsi</th>\n    </tr>\n  </thead>\n  <tbody>\n    <tr>\n      <th>0</th>\n      <td>1.0</td>\n      <td>161011188</td>\n      <td>OPTICAL LIGHT SOURCE</td>\n      <td>JOINWIT FROM SANFIX</td>\n      <td>OPTICAL LIGHT SOURCE JOINWIT STANDARD</td>\n      <td>BRIYAN PRASETYO</td>\n      <td>Team Leader Maintenance &amp; QE</td>\n      <td>QE &amp; GAMAS</td>\n    </tr>\n    <tr>\n      <th>1</th>\n      <td>2.0</td>\n      <td>161011248</td>\n      <td>OPTICAL LIGHT SOURCE</td>\n      <td>JOINWIT FROM SANFIX</td>\n      <td>OPTICAL LIGHT SOURCE JOINWIT STANDARD</td>\n      <td>SOFYAN NAURI</td>\n      <td>Teknisi Provisioning Sektor Pasuruan</td>\n      <td>PROVISIONING</td>\n    </tr>\n    <tr>\n      <th>2</th>\n      <td>3.0</td>\n      <td>170525270</td>\n      <td>OPTICAL LIGHT SOURCE</td>\n      <td>JOINWIT FROM SANFIX</td>\n      <td>OPTICAL LIGHT SOURCE JOINWIT STANDARD</td>\n      <td>MUKHAMAD ASRORI</td>\n      <td>Teknisi I-OAN Sektor Pasuruan</td>\n      <td>I-OAN</td>\n    </tr>\n    <tr>\n      <th>3</th>\n      <td>4.0</td>\n      <td>170525288</td>\n      <td>OPTICAL LIGHT SOURCE</td>\n      <td>JOINWIT FROM SANFIX</td>\n      <td>OPTICAL LIGHT SOURCE JOINWIT STANDARD</td>\n      <td>WAHYU INDRA CHRISTIAN</td>\n      <td>Teknisi I-OAN Sektor Probolinggo 2</td>\n      <td>I-OAN</td>\n    </tr>\n    <tr>\n      <th>4</th>\n      <td>5.0</td>\n      <td>170525300</td>\n      <td>OPTICAL LIGHT SOURCE</td>\n      <td>JOINWIT FROM SANFIX</td>\n      <td>OPTICAL LIGHT SOURCE JOINWIT STANDARD</td>\n      <td>JIHAD AMIRUL HAQ</td>\n      <td>Team Leader I-OAN Sektor Pasuruan 2</td>\n      <td>I-OAN</td>\n    </tr>\n    <tr>\n      <th>...</th>\n      <td>...</td>\n      <td>...</td>\n      <td>...</td>\n      <td>...</td>\n      <td>...</td>\n      <td>...</td>\n      <td>...</td>\n      <td>...</td>\n    </tr>\n    <tr>\n      <th>58</th>\n      <td>59.0</td>\n      <td>LS-8352</td>\n      <td>OPTICAL LIGHT SOURCE</td>\n      <td>Stintrument</td>\n      <td>OLS STINTRUMENT [STANDARD]</td>\n      <td>GILANG RAMADHAN AGUNG GUMELAR</td>\n      <td>Teknisi TSEL</td>\n      <td>I-OAN</td>\n    </tr>\n    <tr>\n      <th>59</th>\n      <td>60.0</td>\n      <td>LS-8468</td>\n      <td>OPTICAL LIGHT SOURCE</td>\n      <td>Stintrument</td>\n      <td>OLS STINTRUMENT [STANDARD]</td>\n      <td>ANGGRIAWAN ATMY PUTRA</td>\n      <td>Team Leader Provisioning &amp; Migrasi Sektor Bangil</td>\n      <td>PROVISIONING</td>\n    </tr>\n    <tr>\n      <th>60</th>\n      <td>61.0</td>\n      <td>LS-975</td>\n      <td>OPTICAL LIGHT SOURCE</td>\n      <td>Stintrument</td>\n      <td>OLS STINTRUMENT [STANDARD]</td>\n      <td>MUKLAS ANDIKA WIJAYA</td>\n      <td>Team Leader I-OAN Sektor Probolinggo 2</td>\n      <td>I-OAN</td>\n    </tr>\n    <tr>\n      <th>61</th>\n      <td>62.0</td>\n      <td>LS-988</td>\n      <td>OPTICAL LIGHT SOURCE</td>\n      <td>Stintrument</td>\n      <td>OLS STINTRUMENT [STANDARD]</td>\n      <td>EKO WIDIANTO</td>\n      <td>Teknisi I-OAN Sektor Probolinggo</td>\n      <td>I-OAN</td>\n    </tr>\n    <tr>\n      <th>62</th>\n      <td>63.0</td>\n      <td>LS-990</td>\n      <td>OPTICAL LIGHT SOURCE</td>\n      <td>Stintrument</td>\n      <td>OLS STINTRUMENT [STANDARD]</td>\n      <td>TIGO DWI ANGGA</td>\n      <td>Teknisi I-OAN Sektor Probolinggo</td>\n      <td>I-OAN</td>\n    </tr>\n  </tbody>\n</table>\n<p>63 rows × 8 columns</p>\n</div>"
     },
     "execution_count": 4,
     "metadata": {},
     "output_type": "execute_result"
    }
   ],
   "source": [
    "df_ols = pd.read_csv('OLS.csv',delimiter=\";\")\n",
    "df_ols.dropna(inplace=True)\n",
    "df_ols"
   ]
  },
  {
   "cell_type": "code",
   "execution_count": 5,
   "metadata": {},
   "outputs": [
    {
     "data": {
      "text/plain": "      No Serial Number         Jenis Barang     Merk Barang  \\\n0    1.0    1503201128  OPTICAL POWER METER  B&D TECHNOLOGY   \n1    2.0    1503201133  OPTICAL POWER METER  B&D TECHNOLOGY   \n2    3.0    1503201153  OPTICAL POWER METER  B&D TECHNOLOGY   \n3    4.0    1503201156  OPTICAL POWER METER  B&D TECHNOLOGY   \n4    5.0    1503301375  OPTICAL POWER METER  B&D TECHNOLOGY   \n..   ...           ...                  ...             ...   \n83  84.0      Opm-5718  OPTICAL POWER METER     Stintrument   \n84  85.0      OPM-6167  OPTICAL POWER METER     Stintrument   \n85  86.0      opm-6179  OPTICAL POWER METER     Stintrument   \n86  87.0      OPM-6321  OPTICAL POWER METER     Stintrument   \n87  88.0      OPM-6713  OPTICAL POWER METER     Stintrument   \n\n                                  Nama Product                        Posisi  \\\n0    OPTICAL POWER METER B&D TECHNOLOGY BD-503            AHMAD ZAINUL IRFAN   \n1    OPTICAL POWER METER B&D TECHNOLOGY BD-503         RUSTAMI HERDI TRIAWAN   \n2    OPTICAL POWER METER B&D TECHNOLOGY BD-503                 ANDY SISWANTO   \n3    OPTICAL POWER METER B&D TECHNOLOGY BD-503                 ANDY SISWANTO   \n4    OPTICAL POWER METER B&D TECHNOLOGY BD-503                 ANDY SISWANTO   \n..                                         ...                           ...   \n83  OPTICAL POWER METER STINTRUMENT [STANDARD]         ANGGRIAWAN ATMY PUTRA   \n84  OPTICAL POWER METER STINTRUMENT [STANDARD]                GALI SETIYAWAN   \n85  OPTICAL POWER METER STINTRUMENT [STANDARD]              JIHAD AMIRUL HAQ   \n86  OPTICAL POWER METER STINTRUMENT [STANDARD]      MUCHAMAD DIDIK SUWARDOYO   \n87  OPTICAL POWER METER STINTRUMENT [STANDARD]  MUHAMMAD IKHYAK GALI OKTANDA   \n\n                                        Position Name  Group Fungsi  \n0                      Team Leader TSEL & OLO Service         I-OAN  \n1                                Teknisi BGES Service         I-OAN  \n2   Site Manager Operation Consumer Service Pasuru...         I-OAN  \n3   Site Manager Operation Consumer Service Pasuru...         I-OAN  \n4   Site Manager Operation Consumer Service Pasuru...         I-OAN  \n..                                                ...           ...  \n83   Team Leader Provisioning & Migrasi Sektor Bangil  PROVISIONING  \n84                            Site Manager CCAN & WAN         I-OAN  \n85                Team Leader I-OAN Sektor Pasuruan 2         I-OAN  \n86                                       Teknisi TSEL         I-OAN  \n87                    Teknisi I-OAN Sektor Pasuruan 2         I-OAN  \n\n[87 rows x 8 columns]",
      "text/html": "<div>\n<style scoped>\n    .dataframe tbody tr th:only-of-type {\n        vertical-align: middle;\n    }\n\n    .dataframe tbody tr th {\n        vertical-align: top;\n    }\n\n    .dataframe thead th {\n        text-align: right;\n    }\n</style>\n<table border=\"1\" class=\"dataframe\">\n  <thead>\n    <tr style=\"text-align: right;\">\n      <th></th>\n      <th>No</th>\n      <th>Serial Number</th>\n      <th>Jenis Barang</th>\n      <th>Merk Barang</th>\n      <th>Nama Product</th>\n      <th>Posisi</th>\n      <th>Position Name</th>\n      <th>Group Fungsi</th>\n    </tr>\n  </thead>\n  <tbody>\n    <tr>\n      <th>0</th>\n      <td>1.0</td>\n      <td>1503201128</td>\n      <td>OPTICAL POWER METER</td>\n      <td>B&amp;D TECHNOLOGY</td>\n      <td>OPTICAL POWER METER B&amp;D TECHNOLOGY BD-503</td>\n      <td>AHMAD ZAINUL IRFAN</td>\n      <td>Team Leader TSEL &amp; OLO Service</td>\n      <td>I-OAN</td>\n    </tr>\n    <tr>\n      <th>1</th>\n      <td>2.0</td>\n      <td>1503201133</td>\n      <td>OPTICAL POWER METER</td>\n      <td>B&amp;D TECHNOLOGY</td>\n      <td>OPTICAL POWER METER B&amp;D TECHNOLOGY BD-503</td>\n      <td>RUSTAMI HERDI TRIAWAN</td>\n      <td>Teknisi BGES Service</td>\n      <td>I-OAN</td>\n    </tr>\n    <tr>\n      <th>2</th>\n      <td>3.0</td>\n      <td>1503201153</td>\n      <td>OPTICAL POWER METER</td>\n      <td>B&amp;D TECHNOLOGY</td>\n      <td>OPTICAL POWER METER B&amp;D TECHNOLOGY BD-503</td>\n      <td>ANDY SISWANTO</td>\n      <td>Site Manager Operation Consumer Service Pasuru...</td>\n      <td>I-OAN</td>\n    </tr>\n    <tr>\n      <th>3</th>\n      <td>4.0</td>\n      <td>1503201156</td>\n      <td>OPTICAL POWER METER</td>\n      <td>B&amp;D TECHNOLOGY</td>\n      <td>OPTICAL POWER METER B&amp;D TECHNOLOGY BD-503</td>\n      <td>ANDY SISWANTO</td>\n      <td>Site Manager Operation Consumer Service Pasuru...</td>\n      <td>I-OAN</td>\n    </tr>\n    <tr>\n      <th>4</th>\n      <td>5.0</td>\n      <td>1503301375</td>\n      <td>OPTICAL POWER METER</td>\n      <td>B&amp;D TECHNOLOGY</td>\n      <td>OPTICAL POWER METER B&amp;D TECHNOLOGY BD-503</td>\n      <td>ANDY SISWANTO</td>\n      <td>Site Manager Operation Consumer Service Pasuru...</td>\n      <td>I-OAN</td>\n    </tr>\n    <tr>\n      <th>...</th>\n      <td>...</td>\n      <td>...</td>\n      <td>...</td>\n      <td>...</td>\n      <td>...</td>\n      <td>...</td>\n      <td>...</td>\n      <td>...</td>\n    </tr>\n    <tr>\n      <th>83</th>\n      <td>84.0</td>\n      <td>Opm-5718</td>\n      <td>OPTICAL POWER METER</td>\n      <td>Stintrument</td>\n      <td>OPTICAL POWER METER STINTRUMENT [STANDARD]</td>\n      <td>ANGGRIAWAN ATMY PUTRA</td>\n      <td>Team Leader Provisioning &amp; Migrasi Sektor Bangil</td>\n      <td>PROVISIONING</td>\n    </tr>\n    <tr>\n      <th>84</th>\n      <td>85.0</td>\n      <td>OPM-6167</td>\n      <td>OPTICAL POWER METER</td>\n      <td>Stintrument</td>\n      <td>OPTICAL POWER METER STINTRUMENT [STANDARD]</td>\n      <td>GALI SETIYAWAN</td>\n      <td>Site Manager CCAN &amp; WAN</td>\n      <td>I-OAN</td>\n    </tr>\n    <tr>\n      <th>85</th>\n      <td>86.0</td>\n      <td>opm-6179</td>\n      <td>OPTICAL POWER METER</td>\n      <td>Stintrument</td>\n      <td>OPTICAL POWER METER STINTRUMENT [STANDARD]</td>\n      <td>JIHAD AMIRUL HAQ</td>\n      <td>Team Leader I-OAN Sektor Pasuruan 2</td>\n      <td>I-OAN</td>\n    </tr>\n    <tr>\n      <th>86</th>\n      <td>87.0</td>\n      <td>OPM-6321</td>\n      <td>OPTICAL POWER METER</td>\n      <td>Stintrument</td>\n      <td>OPTICAL POWER METER STINTRUMENT [STANDARD]</td>\n      <td>MUCHAMAD DIDIK SUWARDOYO</td>\n      <td>Teknisi TSEL</td>\n      <td>I-OAN</td>\n    </tr>\n    <tr>\n      <th>87</th>\n      <td>88.0</td>\n      <td>OPM-6713</td>\n      <td>OPTICAL POWER METER</td>\n      <td>Stintrument</td>\n      <td>OPTICAL POWER METER STINTRUMENT [STANDARD]</td>\n      <td>MUHAMMAD IKHYAK GALI OKTANDA</td>\n      <td>Teknisi I-OAN Sektor Pasuruan 2</td>\n      <td>I-OAN</td>\n    </tr>\n  </tbody>\n</table>\n<p>87 rows × 8 columns</p>\n</div>"
     },
     "execution_count": 5,
     "metadata": {},
     "output_type": "execute_result"
    }
   ],
   "source": [
    "df_opm = pd.read_csv('OPM.csv',delimiter=\";\")\n",
    "df_opm.dropna(inplace=True)\n",
    "df_opm"
   ]
  },
  {
   "cell_type": "code",
   "execution_count": 6,
   "metadata": {},
   "outputs": [
    {
     "data": {
      "text/plain": "    No Serial Number         Jenis Barang     Merk Barang  \\\n0  1.0    1503201128  OPTICAL POWER METER  B&D TECHNOLOGY   \n1  2.0    1503201133  OPTICAL POWER METER  B&D TECHNOLOGY   \n2  3.0    1503201153  OPTICAL POWER METER  B&D TECHNOLOGY   \n3  4.0    1503201156  OPTICAL POWER METER  B&D TECHNOLOGY   \n4  5.0    1503301375  OPTICAL POWER METER  B&D TECHNOLOGY   \n\n                                Nama Product                 Posisi  \\\n0  OPTICAL POWER METER B&D TECHNOLOGY BD-503     AHMAD ZAINUL IRFAN   \n1  OPTICAL POWER METER B&D TECHNOLOGY BD-503  RUSTAMI HERDI TRIAWAN   \n2  OPTICAL POWER METER B&D TECHNOLOGY BD-503          ANDY SISWANTO   \n3  OPTICAL POWER METER B&D TECHNOLOGY BD-503          ANDY SISWANTO   \n4  OPTICAL POWER METER B&D TECHNOLOGY BD-503          ANDY SISWANTO   \n\n                                       Position Name Group Fungsi  \n0                     Team Leader TSEL & OLO Service        I-OAN  \n1                               Teknisi BGES Service        I-OAN  \n2  Site Manager Operation Consumer Service Pasuru...        I-OAN  \n3  Site Manager Operation Consumer Service Pasuru...        I-OAN  \n4  Site Manager Operation Consumer Service Pasuru...        I-OAN  ",
      "text/html": "<div>\n<style scoped>\n    .dataframe tbody tr th:only-of-type {\n        vertical-align: middle;\n    }\n\n    .dataframe tbody tr th {\n        vertical-align: top;\n    }\n\n    .dataframe thead th {\n        text-align: right;\n    }\n</style>\n<table border=\"1\" class=\"dataframe\">\n  <thead>\n    <tr style=\"text-align: right;\">\n      <th></th>\n      <th>No</th>\n      <th>Serial Number</th>\n      <th>Jenis Barang</th>\n      <th>Merk Barang</th>\n      <th>Nama Product</th>\n      <th>Posisi</th>\n      <th>Position Name</th>\n      <th>Group Fungsi</th>\n    </tr>\n  </thead>\n  <tbody>\n    <tr>\n      <th>0</th>\n      <td>1.0</td>\n      <td>1503201128</td>\n      <td>OPTICAL POWER METER</td>\n      <td>B&amp;D TECHNOLOGY</td>\n      <td>OPTICAL POWER METER B&amp;D TECHNOLOGY BD-503</td>\n      <td>AHMAD ZAINUL IRFAN</td>\n      <td>Team Leader TSEL &amp; OLO Service</td>\n      <td>I-OAN</td>\n    </tr>\n    <tr>\n      <th>1</th>\n      <td>2.0</td>\n      <td>1503201133</td>\n      <td>OPTICAL POWER METER</td>\n      <td>B&amp;D TECHNOLOGY</td>\n      <td>OPTICAL POWER METER B&amp;D TECHNOLOGY BD-503</td>\n      <td>RUSTAMI HERDI TRIAWAN</td>\n      <td>Teknisi BGES Service</td>\n      <td>I-OAN</td>\n    </tr>\n    <tr>\n      <th>2</th>\n      <td>3.0</td>\n      <td>1503201153</td>\n      <td>OPTICAL POWER METER</td>\n      <td>B&amp;D TECHNOLOGY</td>\n      <td>OPTICAL POWER METER B&amp;D TECHNOLOGY BD-503</td>\n      <td>ANDY SISWANTO</td>\n      <td>Site Manager Operation Consumer Service Pasuru...</td>\n      <td>I-OAN</td>\n    </tr>\n    <tr>\n      <th>3</th>\n      <td>4.0</td>\n      <td>1503201156</td>\n      <td>OPTICAL POWER METER</td>\n      <td>B&amp;D TECHNOLOGY</td>\n      <td>OPTICAL POWER METER B&amp;D TECHNOLOGY BD-503</td>\n      <td>ANDY SISWANTO</td>\n      <td>Site Manager Operation Consumer Service Pasuru...</td>\n      <td>I-OAN</td>\n    </tr>\n    <tr>\n      <th>4</th>\n      <td>5.0</td>\n      <td>1503301375</td>\n      <td>OPTICAL POWER METER</td>\n      <td>B&amp;D TECHNOLOGY</td>\n      <td>OPTICAL POWER METER B&amp;D TECHNOLOGY BD-503</td>\n      <td>ANDY SISWANTO</td>\n      <td>Site Manager Operation Consumer Service Pasuru...</td>\n      <td>I-OAN</td>\n    </tr>\n  </tbody>\n</table>\n</div>"
     },
     "execution_count": 6,
     "metadata": {},
     "output_type": "execute_result"
    }
   ],
   "source": [
    "df_opm['Serial Number'] = df_opm['Serial Number'].apply(lambda x: str(x).upper())\n",
    "df_opm['Jenis Barang'] = df_opm['Jenis Barang'].apply(lambda x: str(x).upper())\n",
    "df_opm['Merk Barang'] = df_opm['Merk Barang'].apply(lambda x: str(x).upper())\n",
    "df_opm['Nama Product'] = df_opm['Nama Product'].apply(lambda x: str(x).upper())\n",
    "df_opm['Posisi'] = df_opm['Posisi'].apply(lambda x: str(x).upper())\n",
    "df_opm.head()"
   ]
  },
  {
   "cell_type": "code",
   "execution_count": 7,
   "metadata": {},
   "outputs": [
    {
     "data": {
      "text/plain": "    No Serial Number          Jenis Barang          Merk Barang  \\\n0  1.0     161011188  OPTICAL LIGHT SOURCE  JOINWIT FROM SANFIX   \n1  2.0     161011248  OPTICAL LIGHT SOURCE  JOINWIT FROM SANFIX   \n2  3.0     170525270  OPTICAL LIGHT SOURCE  JOINWIT FROM SANFIX   \n3  4.0     170525288  OPTICAL LIGHT SOURCE  JOINWIT FROM SANFIX   \n4  5.0     170525300  OPTICAL LIGHT SOURCE  JOINWIT FROM SANFIX   \n\n                            Nama Product                 Posisi  \\\n0  OPTICAL LIGHT SOURCE JOINWIT STANDARD        BRIYAN PRASETYO   \n1  OPTICAL LIGHT SOURCE JOINWIT STANDARD           SOFYAN NAURI   \n2  OPTICAL LIGHT SOURCE JOINWIT STANDARD        MUKHAMAD ASRORI   \n3  OPTICAL LIGHT SOURCE JOINWIT STANDARD  WAHYU INDRA CHRISTIAN   \n4  OPTICAL LIGHT SOURCE JOINWIT STANDARD       JIHAD AMIRUL HAQ   \n\n                          Position Name  Group Fungsi  \n0          Team Leader Maintenance & QE    QE & GAMAS  \n1  Teknisi Provisioning Sektor Pasuruan  PROVISIONING  \n2         Teknisi I-OAN Sektor Pasuruan         I-OAN  \n3    Teknisi I-OAN Sektor Probolinggo 2         I-OAN  \n4   Team Leader I-OAN Sektor Pasuruan 2         I-OAN  ",
      "text/html": "<div>\n<style scoped>\n    .dataframe tbody tr th:only-of-type {\n        vertical-align: middle;\n    }\n\n    .dataframe tbody tr th {\n        vertical-align: top;\n    }\n\n    .dataframe thead th {\n        text-align: right;\n    }\n</style>\n<table border=\"1\" class=\"dataframe\">\n  <thead>\n    <tr style=\"text-align: right;\">\n      <th></th>\n      <th>No</th>\n      <th>Serial Number</th>\n      <th>Jenis Barang</th>\n      <th>Merk Barang</th>\n      <th>Nama Product</th>\n      <th>Posisi</th>\n      <th>Position Name</th>\n      <th>Group Fungsi</th>\n    </tr>\n  </thead>\n  <tbody>\n    <tr>\n      <th>0</th>\n      <td>1.0</td>\n      <td>161011188</td>\n      <td>OPTICAL LIGHT SOURCE</td>\n      <td>JOINWIT FROM SANFIX</td>\n      <td>OPTICAL LIGHT SOURCE JOINWIT STANDARD</td>\n      <td>BRIYAN PRASETYO</td>\n      <td>Team Leader Maintenance &amp; QE</td>\n      <td>QE &amp; GAMAS</td>\n    </tr>\n    <tr>\n      <th>1</th>\n      <td>2.0</td>\n      <td>161011248</td>\n      <td>OPTICAL LIGHT SOURCE</td>\n      <td>JOINWIT FROM SANFIX</td>\n      <td>OPTICAL LIGHT SOURCE JOINWIT STANDARD</td>\n      <td>SOFYAN NAURI</td>\n      <td>Teknisi Provisioning Sektor Pasuruan</td>\n      <td>PROVISIONING</td>\n    </tr>\n    <tr>\n      <th>2</th>\n      <td>3.0</td>\n      <td>170525270</td>\n      <td>OPTICAL LIGHT SOURCE</td>\n      <td>JOINWIT FROM SANFIX</td>\n      <td>OPTICAL LIGHT SOURCE JOINWIT STANDARD</td>\n      <td>MUKHAMAD ASRORI</td>\n      <td>Teknisi I-OAN Sektor Pasuruan</td>\n      <td>I-OAN</td>\n    </tr>\n    <tr>\n      <th>3</th>\n      <td>4.0</td>\n      <td>170525288</td>\n      <td>OPTICAL LIGHT SOURCE</td>\n      <td>JOINWIT FROM SANFIX</td>\n      <td>OPTICAL LIGHT SOURCE JOINWIT STANDARD</td>\n      <td>WAHYU INDRA CHRISTIAN</td>\n      <td>Teknisi I-OAN Sektor Probolinggo 2</td>\n      <td>I-OAN</td>\n    </tr>\n    <tr>\n      <th>4</th>\n      <td>5.0</td>\n      <td>170525300</td>\n      <td>OPTICAL LIGHT SOURCE</td>\n      <td>JOINWIT FROM SANFIX</td>\n      <td>OPTICAL LIGHT SOURCE JOINWIT STANDARD</td>\n      <td>JIHAD AMIRUL HAQ</td>\n      <td>Team Leader I-OAN Sektor Pasuruan 2</td>\n      <td>I-OAN</td>\n    </tr>\n  </tbody>\n</table>\n</div>"
     },
     "execution_count": 7,
     "metadata": {},
     "output_type": "execute_result"
    }
   ],
   "source": [
    "df_ols['Serial Number'] = df_ols['Serial Number'].apply(lambda x: str(x).upper())\n",
    "df_ols['Jenis Barang'] = df_ols['Jenis Barang'].apply(lambda x: str(x).upper())\n",
    "df_ols['Merk Barang'] = df_ols['Merk Barang'].apply(lambda x: str(x).upper())\n",
    "df_ols['Nama Product'] = df_ols['Nama Product'].apply(lambda x: str(x).upper())\n",
    "df_ols['Posisi'] = df_ols['Posisi'].apply(lambda x: str(x).upper())\n",
    "df_ols.head()"
   ]
  },
  {
   "cell_type": "code",
   "execution_count": 8,
   "metadata": {},
   "outputs": [
    {
     "data": {
      "text/plain": "{'OPTICAL LIGHT SOURCE', 'OPTICAL POWER METER'}"
     },
     "execution_count": 8,
     "metadata": {},
     "output_type": "execute_result"
    }
   ],
   "source": [
    "jenis_barang = df_opm['Jenis Barang'].to_list()\n",
    "jenis_barang.extend(df_ols['Jenis Barang'].to_list())\n",
    "set_jenis_barang = set(jenis_barang)\n",
    "set_jenis_barang"
   ]
  },
  {
   "cell_type": "code",
   "execution_count": 9,
   "metadata": {},
   "outputs": [
    {
     "data": {
      "text/plain": "{'B&D TECHNOLOGY', 'JOINWIT FROM SANFIX', 'SENTER', 'STINTRUMENT'}"
     },
     "execution_count": 9,
     "metadata": {},
     "output_type": "execute_result"
    }
   ],
   "source": [
    "merk_barang = df_opm['Merk Barang'].to_list()\n",
    "merk_barang.extend(df_ols['Merk Barang'].to_list())\n",
    "set_merk_barang = set(merk_barang)\n",
    "set_merk_barang"
   ]
  },
  {
   "cell_type": "code",
   "execution_count": 10,
   "metadata": {},
   "outputs": [
    {
     "data": {
      "text/plain": "{'ADE RISDIAN ANWAR',\n 'AHMAD DZULFIKAR',\n 'AHMAD ZAINUL IRFAN',\n 'AJIE RAMADHIANTO',\n 'AKHMAD URIFAN',\n 'AKHMAD YUSUF',\n 'ALDIAN AKBAR NAUFAL',\n 'ANDIKA ADI SAKA FATMA',\n 'ANDY SISWANTO',\n 'ANGGRIAWAN ATMY PUTRA',\n 'ANWAR AZIS ROSYIDI',\n 'ARIF RACHMADHONI',\n 'BAGUS DWI HERMAWAN',\n 'BIMA BAHRIL ILMI',\n 'BRIYAN PRASETYO',\n 'CHARIS',\n 'DANDI DWI HERMAWAN',\n 'DIO IHZA RAMADANY',\n 'EGA NANDA ICHNUARI',\n 'EKO WIDIANTO',\n 'FIRMAN AMIN MASONI',\n 'GALI SETIYAWAN',\n 'GILANG RAMADHAN AGUNG GUMELAR',\n 'ILHAM',\n 'IQBAL AFGHANI ARIGGI',\n 'IVAN DWI OKTAFIAN',\n 'IZUDDIN AMRULLOH',\n 'JIHAD AMIRUL HAQ',\n 'LUHUNG JIWA SAPUTRA',\n 'M BISRI ARIANTO',\n 'MAULANA GHOFFARUL KAHFI',\n 'MOCH. AKBAR MUSTIKA MUSTHOFA',\n 'MOCHAMAD LUTFI',\n 'MOCHAMMAD ZAINURROZIQIN',\n 'MOH RANDY ARDIKA',\n 'MOH. ABDILLAH',\n 'MOH. MAULANA KHOIRI',\n 'MUCHAMAD DIDIK SUWARDOYO',\n 'MUHAMMAD AGUS WAHYUDHI',\n 'MUHAMMAD HUSEN ZAINUDIN',\n 'MUHAMMAD IKHYAK GALI OKTANDA',\n 'MUKHAMAD ASRORI',\n 'MUKHAMMAD MUDASIR SUTRISNO',\n 'MUKLAS ANDIKA WIJAYA',\n 'PRAYOGA DWI WIDODO',\n 'RASIO EKA PRAYUDHA',\n 'RIFKI JUDO WARDOYO',\n 'RINDARTO WIBISONO',\n 'RIO SAPUTRA ARGANATA',\n 'ROBAKHUL ARIFIN',\n 'ROSI INDRASARI',\n 'RUSTAMI HERDI TRIAWAN',\n 'SALMAN AL FARISYI',\n 'SODIK',\n 'SOFYAN NAURI',\n 'SUHARJO',\n 'TIGO DWI ANGGA',\n 'WAHYU INDRA CHRISTIAN',\n 'WAHYU IQSAN BANGUN NUSANTORO',\n 'WAHYU UTOMO',\n 'YONA SEPTIANTO',\n 'YULIAN SUKMA PRADANA',\n 'YUSTIANZAH RACHMANTO',\n 'ZULFI PURWOKO HARDIYANTO'}"
     },
     "execution_count": 10,
     "metadata": {},
     "output_type": "execute_result"
    }
   ],
   "source": [
    "posisi = df_opm['Posisi'].to_list()\n",
    "posisi.extend(df_ols['Posisi'].to_list())\n",
    "set_posisi = set(posisi)\n",
    "set_posisi"
   ]
  },
  {
   "cell_type": "code",
   "execution_count": 53,
   "metadata": {},
   "outputs": [],
   "source": [
    "for merk in set_merk_barang:\n",
    "    cursor = db_connector.cursor(buffered=True)\n",
    "    tab_prod = Table('merk_products')\n",
    "    q = Query.into(tab_prod).columns(tab_prod.merk_name).insert(merk)\n",
    "    cursor.execute(q.get_sql(quote_char=None))\n",
    "    db_connector.commit()"
   ]
  },
  {
   "cell_type": "code",
   "execution_count": 54,
   "metadata": {},
   "outputs": [],
   "source": [
    "for jenis in set_jenis_barang:\n",
    "    cursor = db_connector.cursor(buffered=True)\n",
    "    tab_prod = Table('jenis_products')\n",
    "    q = Query.into(tab_prod).columns(tab_prod.jenis_name, tab_prod.reminder).insert(jenis, 7)\n",
    "    cursor.execute(q.get_sql(quote_char=None))\n",
    "    db_connector.commit()"
   ]
  },
  {
   "cell_type": "code",
   "execution_count": 60,
   "metadata": {},
   "outputs": [],
   "source": [
    "for nama in set_posisi:\n",
    "    cursor = db_connector.cursor(buffered=True)\n",
    "    tab_prod = Table('employees')\n",
    "    q = Query.into(tab_prod).columns(tab_prod.full_name).insert(nama)\n",
    "    cursor.execute(q.get_sql(quote_char=None))\n",
    "    db_connector.commit()"
   ]
  },
  {
   "cell_type": "code",
   "execution_count": 11,
   "metadata": {},
   "outputs": [],
   "source": [
    "dict_name = {}\n",
    "start_idx = 2\n",
    "for nama in set_posisi:\n",
    "    dict_name[nama] = start_idx\n",
    "    start_idx += 1"
   ]
  },
  {
   "cell_type": "code",
   "execution_count": 12,
   "metadata": {},
   "outputs": [],
   "source": [
    "dict_jenis = {}\n",
    "start_idx = 1\n",
    "for jenis in set_jenis_barang:\n",
    "    dict_jenis[jenis] = start_idx\n",
    "    start_idx += 1"
   ]
  },
  {
   "cell_type": "code",
   "execution_count": 13,
   "metadata": {},
   "outputs": [],
   "source": [
    "dict_merk = {}\n",
    "start_idx = 1\n",
    "for merk in set_merk_barang:\n",
    "    dict_merk[merk] = start_idx\n",
    "    start_idx += 1"
   ]
  },
  {
   "cell_type": "code",
   "execution_count": 74,
   "metadata": {},
   "outputs": [],
   "source": [
    "for idx, row in df_ols.iterrows():\n",
    "    sn = str(row['Serial Number'])\n",
    "    np = str(row['Nama Product'])\n",
    "    jb = str(row['Jenis Barang'])\n",
    "    mb = str(row['Merk Barang'])\n",
    "    po = str(row['Posisi'])\n",
    "    person = dict_name[po]\n",
    "    jenis = dict_jenis[jb]\n",
    "    merk = dict_merk[mb]\n",
    "    cursor = db_connector.cursor(buffered=True)\n",
    "    tab_prod = Table('products')\n",
    "    q = Query.into(tab_prod).columns(tab_prod.serial_number, tab_prod.product_name, tab_prod.merk_id, tab_prod.jenis_id).insert(sn, np, merk, jenis)\n",
    "    cursor.execute(q.get_sql(quote_char=None))\n",
    "    db_connector.commit()"
   ]
  },
  {
   "cell_type": "code",
   "execution_count": 16,
   "metadata": {},
   "outputs": [],
   "source": [
    "for idx, row in df_opm.iterrows():\n",
    "    sn = str(row['Serial Number'])\n",
    "    np = str(row['Nama Product'])\n",
    "    jb = str(row['Jenis Barang'])\n",
    "    mb = str(row['Merk Barang'])\n",
    "    po = str(row['Posisi'])\n",
    "    person = dict_name[po]\n",
    "    jenis = dict_jenis[jb]\n",
    "    merk = dict_merk[mb]\n",
    "    cursor = db_connector.cursor(buffered=True)\n",
    "    tab_prod = Table('products')\n",
    "    q = Query.into(tab_prod).columns(tab_prod.serial_number, tab_prod.product_name, tab_prod.merk_id, tab_prod.jenis_id).insert(sn, np, merk, jenis)\n",
    "    cursor.execute(q.get_sql(quote_char=None))\n",
    "    db_connector.commit()\n",
    "\n",
    "\n"
   ]
  },
  {
   "cell_type": "code",
   "execution_count": 14,
   "outputs": [
    {
     "data": {
      "text/plain": "{'STINTRUMENT': 1, 'SENTER': 2, 'JOINWIT FROM SANFIX': 3, 'B&D TECHNOLOGY': 4}"
     },
     "execution_count": 14,
     "metadata": {},
     "output_type": "execute_result"
    }
   ],
   "source": [
    "dict_merk"
   ],
   "metadata": {
    "collapsed": false,
    "pycharm": {
     "name": "#%%\n"
    }
   }
  },
  {
   "cell_type": "code",
   "execution_count": 15,
   "outputs": [
    {
     "data": {
      "text/plain": "{'OPTICAL POWER METER': 1, 'OPTICAL LIGHT SOURCE': 2}"
     },
     "execution_count": 15,
     "metadata": {},
     "output_type": "execute_result"
    }
   ],
   "source": [
    "dict_jenis"
   ],
   "metadata": {
    "collapsed": false,
    "pycharm": {
     "name": "#%%\n"
    }
   }
  }
 ],
 "metadata": {
  "kernelspec": {
   "display_name": "Python 3",
   "language": "python",
   "name": "python3"
  },
  "language_info": {
   "codemirror_mode": {
    "name": "ipython",
    "version": 3
   },
   "file_extension": ".py",
   "mimetype": "text/x-python",
   "name": "python",
   "nbconvert_exporter": "python",
   "pygments_lexer": "ipython3",
   "version": "3.8.3"
  }
 },
 "nbformat": 4,
 "nbformat_minor": 4
}